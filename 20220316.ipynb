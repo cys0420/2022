{
  "nbformat": 4,
  "nbformat_minor": 0,
  "metadata": {
    "colab": {
      "name": "20220316.ipynb",
      "provenance": [],
      "authorship_tag": "ABX9TyNxcZ8fr9QHYLJs7wWOuLf/",
      "include_colab_link": true
    },
    "kernelspec": {
      "name": "python3",
      "display_name": "Python 3"
    },
    "language_info": {
      "name": "python"
    }
  },
  "cells": [
    {
      "cell_type": "markdown",
      "metadata": {
        "id": "view-in-github",
        "colab_type": "text"
      },
      "source": [
        "<a href=\"https://colab.research.google.com/github/cys0420/2022/blob/main/20220316.ipynb\" target=\"_parent\"><img src=\"https://colab.research.google.com/assets/colab-badge.svg\" alt=\"Open In Colab\"/></a>"
      ]
    },
    {
      "cell_type": "code",
      "source": [
        "import numpy as np  \n",
        "n = np.random.randn(100) #균등분포"
      ],
      "metadata": {
        "id": "47GyvjbaC1Lx"
      },
      "execution_count": 16,
      "outputs": []
    },
    {
      "cell_type": "code",
      "source": [
        "import matplotlib\n",
        "matplotlib.pyplot.hist(n)"
      ],
      "metadata": {
        "colab": {
          "base_uri": "https://localhost:8080/",
          "height": 356
        },
        "id": "eBXJh-87C1aW",
        "outputId": "c95231c7-48d6-47b0-bdbc-38c721f651fe"
      },
      "execution_count": 17,
      "outputs": [
        {
          "output_type": "execute_result",
          "data": {
            "text/plain": [
              "(array([ 1.,  2.,  5., 10., 30., 28., 11.,  7.,  4.,  2.]),\n",
              " array([-3.26942455, -2.64589493, -2.0223653 , -1.39883567, -0.77530605,\n",
              "        -0.15177642,  0.47175321,  1.09528283,  1.71881246,  2.34234209,\n",
              "         2.96587171]),\n",
              " <a list of 10 Patch objects>)"
            ]
          },
          "metadata": {},
          "execution_count": 17
        },
        {
          "output_type": "display_data",
          "data": {
            "text/plain": [
              "<Figure size 432x288 with 1 Axes>"
            ],
            "image/png": "[encoded data removed]"
          },
          "metadata": {
            "needs_background": "light"
          }
        }
      ]
    },
    {
      "cell_type": "code",
      "source": [
        "import matplotlib.pyplot\n",
        "matplotlib.pyplot.hist(n)"
      ],
      "metadata": {
        "colab": {
          "base_uri": "https://localhost:8080/",
          "height": 356
        },
        "id": "YcbZf4XpC1kr",
        "outputId": "6733d134-9919-49ff-b9b9-1923e0d01ee5"
      },
      "execution_count": 18,
      "outputs": [
        {
          "output_type": "execute_result",
          "data": {
            "text/plain": [
              "(array([ 1.,  2.,  5., 10., 30., 28., 11.,  7.,  4.,  2.]),\n",
              " array([-3.26942455, -2.64589493, -2.0223653 , -1.39883567, -0.77530605,\n",
              "        -0.15177642,  0.47175321,  1.09528283,  1.71881246,  2.34234209,\n",
              "         2.96587171]),\n",
              " <a list of 10 Patch objects>)"
            ]
          },
          "metadata": {},
          "execution_count": 18
        },
        {
          "output_type": "display_data",
          "data": {
            "text/plain": [
              "<Figure size 432x288 with 1 Axes>"
            ],
            "image/png": "[encoded data removed]"
          },
          "metadata": {
            "needs_background": "light"
          }
        }
      ]
    },
    {
      "cell_type": "code",
      "source": [
        "import matplotlib.pyplot as plt \n",
        "plt.hist(n)"
      ],
      "metadata": {
        "colab": {
          "base_uri": "https://localhost:8080/",
          "height": 356
        },
        "id": "jqSTf650C1s_",
        "outputId": "8a8e8b5d-5ddc-462c-e220-f82f8605e8f4"
      },
      "execution_count": 19,
      "outputs": [
        {
          "output_type": "execute_result",
          "data": {
            "text/plain": [
              "(array([ 1.,  2.,  5., 10., 30., 28., 11.,  7.,  4.,  2.]),\n",
              " array([-3.26942455, -2.64589493, -2.0223653 , -1.39883567, -0.77530605,\n",
              "        -0.15177642,  0.47175321,  1.09528283,  1.71881246,  2.34234209,\n",
              "         2.96587171]),\n",
              " <a list of 10 Patch objects>)"
            ]
          },
          "metadata": {},
          "execution_count": 19
        },
        {
          "output_type": "display_data",
          "data": {
            "text/plain": [
              "<Figure size 432x288 with 1 Axes>"
            ],
            "image/png": "[encoded data removed]"
          },
          "metadata": {
            "needs_background": "light"
          }
        }
      ]
    },
    {
      "cell_type": "code",
      "source": [
        "from matplotlib import pyplot # =import as\n",
        "pyplot.hist(n)"
      ],
      "metadata": {
        "id": "Em7gRQmHC12L"
      },
      "execution_count": null,
      "outputs": []
    },
    {
      "cell_type": "code",
      "source": [
        "from matplotlib.pyplot import hist\n",
        "hist(n)"
      ],
      "metadata": {
        "id": "QPK8WrXOEap6"
      },
      "execution_count": null,
      "outputs": []
    },
    {
      "cell_type": "markdown",
      "source": [
        "numpy_matplotlib.ipynb"
      ],
      "metadata": {
        "id": "VfIdgeSLC6op"
      }
    },
    {
      "cell_type": "code",
      "source": [
        "import numpy as np"
      ],
      "metadata": {
        "id": "NJFktM47DMYo"
      },
      "execution_count": 15,
      "outputs": []
    },
    {
      "cell_type": "code",
      "source": [
        "x = np.array([1,2,3]) \n",
        "print(x)\n",
        "print(type(x))\n",
        "print(x.shape)   # 3개짜리 array"
      ],
      "metadata": {
        "colab": {
          "base_uri": "https://localhost:8080/"
        },
        "id": "2hMOenhY5eG_",
        "outputId": "756594e6-2f4a-41f2-a0a0-804c23c1b344"
      },
      "execution_count": 2,
      "outputs": [
        {
          "output_type": "stream",
          "name": "stdout",
          "text": [
            "[1 2 3]\n",
            "<class 'numpy.ndarray'>\n",
            "(3,)\n"
          ]
        }
      ]
    },
    {
      "cell_type": "code",
      "source": [
        "x = np.arange(0,10,2)  #0부터 10까지 2의 간격으로 (10포함x)\n",
        "print(x)\n",
        "print(type(x))\n",
        "print(x.shape)"
      ],
      "metadata": {
        "colab": {
          "base_uri": "https://localhost:8080/"
        },
        "id": "0TIRKJCQ5rKx",
        "outputId": "ac3473dc-8558-45e3-c773-8c6febcb4d0a"
      },
      "execution_count": 3,
      "outputs": [
        {
          "output_type": "stream",
          "name": "stdout",
          "text": [
            "[0 2 4 6 8]\n",
            "<class 'numpy.ndarray'>\n",
            "(5,)\n"
          ]
        }
      ]
    },
    {
      "cell_type": "code",
      "source": [
        "x = np.linspace(0,10,6)  # 등분하여 숫자 6개(10포함)\n",
        "print(x)\n",
        "print(type(x))\n",
        "print(x.shape)"
      ],
      "metadata": {
        "colab": {
          "base_uri": "https://localhost:8080/"
        },
        "id": "SO6OD_qM5rQf",
        "outputId": "bf2d682d-df0b-4073-f8ad-baf894693327"
      },
      "execution_count": 6,
      "outputs": [
        {
          "output_type": "stream",
          "name": "stdout",
          "text": [
            "[ 0.  2.  4.  6.  8. 10.]\n",
            "<class 'numpy.ndarray'>\n",
            "(6,)\n"
          ]
        }
      ]
    },
    {
      "cell_type": "code",
      "source": [
        "x = np.array([[1,2,3], [4,5,6]]) #1,2,3\n",
        "                                 #4,5,6\n",
        "print(x)\n",
        "print(type(x))\n",
        "print(x.shape)"
      ],
      "metadata": {
        "colab": {
          "base_uri": "https://localhost:8080/"
        },
        "id": "EuBK_nMu5rTQ",
        "outputId": "39a13edd-692d-4a18-98a4-b6e073c45b38"
      },
      "execution_count": 5,
      "outputs": [
        {
          "output_type": "stream",
          "name": "stdout",
          "text": [
            "[[1 2 3]\n",
            " [4 5 6]]\n",
            "<class 'numpy.ndarray'>\n",
            "(2, 3)\n"
          ]
        }
      ]
    },
    {
      "cell_type": "code",
      "source": [
        "x = np.array([[[1,2,3], [4,5,6]], [[7,8,9], [10,11,12]]])  #[]개는 3-Dim.\n",
        "print(x)\n",
        "print(type(x))\n",
        "print(x.shape)"
      ],
      "metadata": {
        "colab": {
          "base_uri": "https://localhost:8080/"
        },
        "id": "txyD8GAd5rV5",
        "outputId": "2a5ef577-b8a5-45df-8b28-cbbb69e8cc28"
      },
      "execution_count": 7,
      "outputs": [
        {
          "output_type": "stream",
          "name": "stdout",
          "text": [
            "[[[ 1  2  3]\n",
            "  [ 4  5  6]]\n",
            "\n",
            " [[ 7  8  9]\n",
            "  [10 11 12]]]\n",
            "<class 'numpy.ndarray'>\n",
            "(2, 2, 3)\n"
          ]
        }
      ]
    },
    {
      "cell_type": "code",
      "source": [
        "x = np.ones([2, 2, 3]) #1로 채움/ (높이)x(행)x(열)\n",
        "print(x)\n",
        "print(type(x))\n",
        "print(x.shape)"
      ],
      "metadata": {
        "colab": {
          "base_uri": "https://localhost:8080/"
        },
        "id": "ZN-T5VHK5rX8",
        "outputId": "4ac1ca12-70ad-4f2f-bdab-348a1a9f49bb"
      },
      "execution_count": 8,
      "outputs": [
        {
          "output_type": "stream",
          "name": "stdout",
          "text": [
            "[[[1. 1. 1.]\n",
            "  [1. 1. 1.]]\n",
            "\n",
            " [[1. 1. 1.]\n",
            "  [1. 1. 1.]]]\n",
            "<class 'numpy.ndarray'>\n",
            "(2, 2, 3)\n"
          ]
        }
      ]
    },
    {
      "cell_type": "code",
      "source": [
        "x = np.zeros([2, 2, 3])  #0으로 채움\n",
        "print(x)\n",
        "print(type(x))\n",
        "print(x.shape)\n",
        "x.reshape(3,2,2)"
      ],
      "metadata": {
        "id": "5E_lj-6c5rZ2"
      },
      "execution_count": null,
      "outputs": []
    },
    {
      "cell_type": "code",
      "source": [
        "np.random.normal(0, 1, [2,3,4]) #정규분포: 평균0, 표준편차1\n",
        "                                #2개, 3열 4행"
      ],
      "metadata": {
        "colab": {
          "base_uri": "https://localhost:8080/"
        },
        "id": "KXvL2kio54Xn",
        "outputId": "c2dbc555-fd2e-4b1f-a847-485606341895"
      },
      "execution_count": 9,
      "outputs": [
        {
          "output_type": "execute_result",
          "data": {
            "text/plain": [
              "array([[[ 0.88281942, -0.15141515, -0.07090458, -1.25645145],\n",
              "        [-0.5272238 ,  0.11134847, -0.47963238,  0.13449205],\n",
              "        [-0.31230125, -1.64479947, -0.91519174,  0.09496754]],\n",
              "\n",
              "       [[-0.5321816 ,  0.66267417, -2.07910928, -0.71851425],\n",
              "        [-0.45872234, -1.36913805, -0.10102926,  0.00607647],\n",
              "        [-0.85076662,  0.75671081,  0.40427307, -0.96354723]]])"
            ]
          },
          "metadata": {},
          "execution_count": 9
        }
      ]
    },
    {
      "cell_type": "code",
      "source": [
        "import matplotlib.pyplot as plt"
      ],
      "metadata": {
        "id": "xzjsLdEa56Ai"
      },
      "execution_count": 10,
      "outputs": []
    },
    {
      "cell_type": "code",
      "source": [
        "x = np.random.normal(0, 1, 100) #평균0, 표준편차1, 100개\n",
        "print(x)\n",
        "plt.hist(x, bins=10)   # 막대기 10개"
      ],
      "metadata": {
        "colab": {
          "base_uri": "https://localhost:8080/",
          "height": 664
        },
        "id": "7aO0TPrz573e",
        "outputId": "30057b0e-6e61-47d7-cd83-324b8d6bad45"
      },
      "execution_count": 11,
      "outputs": [
        {
          "output_type": "stream",
          "name": "stdout",
          "text": [
            "[-0.91557012 -1.59648135 -0.29063204 -0.44567134  0.62326036 -0.41788977\n",
            " -0.45391431 -2.02129171  0.09356505  1.55867647  0.18749979 -0.3730944\n",
            "  0.23925699  1.07973461  1.75486284  0.1896592   0.94227291 -0.92562151\n",
            "  0.63224225  0.11997637 -0.84318884 -0.48907971  1.33778579 -0.47002893\n",
            "  1.74554538  1.31607382  1.1472924  -0.24445826 -0.20849533  0.38847501\n",
            "  0.26868138  1.17836587  0.82542689  0.22980085  0.63216343 -0.87798316\n",
            "  0.32311951 -0.65571494 -1.01038231  0.37202488 -2.07400604  1.37202962\n",
            "  0.84299012  1.78286149  0.59024826  1.14612041  0.56218748  0.09516583\n",
            " -0.45877761 -0.82639119  1.28963965 -1.67636197  1.17568425 -0.99360651\n",
            "  0.14197247 -0.61397242  1.77610223  0.5707116   1.56025216 -0.77063928\n",
            " -0.44023908 -0.58216546 -0.43227431  0.10388009  0.42912963  0.49656232\n",
            " -0.73630852  1.00700978 -0.01193499  0.06477196  1.09223179  0.77196096\n",
            " -0.17833659 -1.1142212  -0.29910114  0.64159096  0.39145926  1.41225455\n",
            " -2.50485654  0.14206367 -1.52518943 -0.85983244 -1.05161043 -2.09028212\n",
            "  0.13740423 -0.37591158  1.3194404   0.51540375  0.08659432  0.3449915\n",
            " -1.5122123  -0.59980198  0.24893424 -0.50040425  0.75067133 -1.1332824\n",
            "  0.38832781 -0.98772663  1.20039398  0.37801211]\n"
          ]
        },
        {
          "output_type": "execute_result",
          "data": {
            "text/plain": [
              "(array([ 2.,  3.,  3., 12., 17.,  7., 22., 13., 13.,  8.]),\n",
              " array([-2.50485654, -2.07608474, -1.64731294, -1.21854113, -0.78976933,\n",
              "        -0.36099753,  0.06777427,  0.49654608,  0.92531788,  1.35408968,\n",
              "         1.78286149]),\n",
              " <a list of 10 Patch objects>)"
            ]
          },
          "metadata": {},
          "execution_count": 11
        },
        {
          "output_type": "display_data",
          "data": {
            "text/plain": [
              "<Figure size 432x288 with 1 Axes>"
            ],
            "image/png": "[encoded data removed]"
          },
          "metadata": {
            "needs_background": "light"
          }
        }
      ]
    },
    {
      "cell_type": "code",
      "source": [
        "plt.figure()\n",
        "\n",
        "theta1 = np.linspace(0, 2*np.pi, 100) #360°\n",
        "s1 = np.sin(theta1)\n",
        "theta2 = np.linspace(0, 2*np.pi, 100) + np.pi/2 #90°\n",
        "s2 = np.sin(theta2)\n",
        "\n",
        "plt.subplot(2, 1, 1) # (rows, columns, panel number) \n",
        "plt.plot(theta1, s1, '.') #x값, y값, '점'\n",
        "plt.subplot(2, 1, 2) # (rows, columns, panel number)\n",
        "plt.plot(theta2, s2, '.')"
      ],
      "metadata": {
        "colab": {
          "base_uri": "https://localhost:8080/",
          "height": 283
        },
        "id": "lje6Nri35-Fd",
        "outputId": "59560475-5cd5-46dc-eefd-692d42d2167f"
      },
      "execution_count": 12,
      "outputs": [
        {
          "output_type": "execute_result",
          "data": {
            "text/plain": [
              "[<matplotlib.lines.Line2D at 0x7f74bba37250>]"
            ]
          },
          "metadata": {},
          "execution_count": 12
        },
        {
          "output_type": "display_data",
          "data": {
            "text/plain": [
              "<Figure size 432x288 with 2 Axes>"
            ],
            "image/png": "[encoded data removed]"
          },
          "metadata": {
            "needs_background": "light"
          }
        }
      ]
    },
    {
      "cell_type": "code",
      "source": [
        "np.corrcoef(s1,s2)"
      ],
      "metadata": {
        "colab": {
          "base_uri": "https://localhost:8080/"
        },
        "id": "jeoWhxtd5_6c",
        "outputId": "534d55f1-a613-4e4e-db95-dc8d9a1777a6"
      },
      "execution_count": 13,
      "outputs": [
        {
          "output_type": "execute_result",
          "data": {
            "text/plain": [
              "array([[1.00000000e+00, 2.41915449e-17],\n",
              "       [2.41915449e-17, 1.00000000e+00]])"
            ]
          },
          "metadata": {},
          "execution_count": 13
        }
      ]
    }
  ]
}