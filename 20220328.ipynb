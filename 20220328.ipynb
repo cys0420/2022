{
  "nbformat": 4,
  "nbformat_minor": 0,
  "metadata": {
    "colab": {
      "name": "requests_gradio.ipynb",
      "provenance": [],
      "include_colab_link": true
    },
    "kernelspec": {
      "name": "python3",
      "display_name": "Python 3"
    },
    "language_info": {
      "name": "python"
    }
  },
  "cells": [
    {
      "cell_type": "markdown",
      "metadata": {
        "id": "view-in-github",
        "colab_type": "text"
      },
      "source": [
        "<a href=\"https://colab.research.google.com/github/cys0420/2022/blob/main/20220328.ipynb\" target=\"_parent\"><img src=\"https://colab.research.google.com/assets/colab-badge.svg\" alt=\"Open In Colab\"/></a>"
      ]
    },
    {
      "cell_type": "code",
      "source": [
        "!pip install gradio\n",
        "import gradio as gr\n",
        "import requests\n",
        "import pandas as pd"
      ],
      "metadata": {
        "id": "8eZHGJhmqd9a"
      },
      "execution_count": null,
      "outputs": []
    },
    {
      "cell_type": "code",
      "source": [
        "URL =('http://apis.data.go.kr/1661000/EmergencyStatisticsService/'\n",
        "'getTrafficAccidentEmgActStats?'\n",
        "'serviceKey=JA%2F16%2F0d0FKdc%2FKqzD4z6XQYsqG908DxS1HNchB%2BNNp7xkCA9jIn5VQKTjIlMxaGQrVtAOGb9wzdlTMApayG2Q%3D%3D'\n",
        "'&numOfRows=2'\n",
        "'&pageNo=1'\n",
        "'&resultType=json&sidoHqOgidNm=인천소방본부'\n",
        "'&rsacGutFsttOgidNm=부평소방서'\n",
        "'&rcptYm=202101&rlifOccrTyCdNm=기타')\n",
        "response = requests.get(URL)"
      ],
      "metadata": {
        "id": "lHHEwqpyJF7r"
      },
      "execution_count": null,
      "outputs": []
    },
    {
      "cell_type": "code",
      "source": [
        "response"
      ],
      "metadata": {
        "id": "ydY_VPhqtVAR",
        "outputId": "7407313c-92f1-481b-8f32-cdf2c6cd3992",
        "colab": {
          "base_uri": "https://localhost:8080/"
        }
      },
      "execution_count": 56,
      "outputs": [
        {
          "output_type": "execute_result",
          "data": {
            "text/plain": [
              "<Response [200]>"
            ]
          },
          "metadata": {},
          "execution_count": 56
        }
      ]
    },
    {
      "cell_type": "markdown",
      "source": [
        "#### http://jsonviewer.stack.hu/ (copy json here to view json)"
      ],
      "metadata": {
        "id": "faIENRyFfnY1"
      }
    },
    {
      "cell_type": "code",
      "source": [
        "r = response.json()\n",
        "r"
      ],
      "metadata": {
        "id": "JcLKwg0foR9p",
        "colab": {
          "base_uri": "https://localhost:8080/"
        },
        "outputId": "b0b56820-346b-4391-cbae-d4280ea420c9"
      },
      "execution_count": 60,
      "outputs": [
        {
          "output_type": "execute_result",
          "data": {
            "text/plain": [
              "{'body': {'items': [{'gutCo': 25,\n",
              "    'rcptYm': '202101',\n",
              "    'rlifAcdAsmCdNm': '운전자',\n",
              "    'rlifOccrTyCdNm': '기타',\n",
              "    'rsacGutFsttOgidNm': '부평소방서',\n",
              "    'sidoHqOgidNm': '인천소방본부',\n",
              "    'trnfCo': 25,\n",
              "    'trnfPcnt': 25},\n",
              "   {'gutCo': 17,\n",
              "    'rcptYm': '202101',\n",
              "    'rlifAcdAsmCdNm': '보행자',\n",
              "    'rlifOccrTyCdNm': '기타',\n",
              "    'rsacGutFsttOgidNm': '부평소방서',\n",
              "    'sidoHqOgidNm': '인천소방본부',\n",
              "    'trnfCo': 17,\n",
              "    'trnfPcnt': 17}]},\n",
              " 'header': {'resultCode': '00', 'resultMsg': 'NORMAL SERVICE'},\n",
              " 'numOfRows': 2,\n",
              " 'pageNo': 1,\n",
              " 'totalCount': 6}"
            ]
          },
          "metadata": {},
          "execution_count": 60
        }
      ]
    },
    {
      "cell_type": "code",
      "source": [
        "print(type(r))"
      ],
      "metadata": {
        "id": "EGZY8Vygv5oN",
        "outputId": "c365f03b-4c3c-4ec9-f1ea-a9ef6d0a23ff",
        "colab": {
          "base_uri": "https://localhost:8080/"
        }
      },
      "execution_count": 21,
      "outputs": [
        {
          "output_type": "stream",
          "name": "stdout",
          "text": [
            "<class 'dict'>\n"
          ]
        }
      ]
    },
    {
      "cell_type": "code",
      "source": [
        "items=r['body']['items']\n",
        "items[0]"
      ],
      "metadata": {
        "id": "GXIkpHFkyrja",
        "outputId": "8a2c4a49-d14f-43b5-bc82-92e4ef0a0031",
        "colab": {
          "base_uri": "https://localhost:8080/"
        }
      },
      "execution_count": 63,
      "outputs": [
        {
          "output_type": "execute_result",
          "data": {
            "text/plain": [
              "{'gutCo': 25,\n",
              " 'rcptYm': '202101',\n",
              " 'rlifAcdAsmCdNm': '운전자',\n",
              " 'rlifOccrTyCdNm': '기타',\n",
              " 'rsacGutFsttOgidNm': '부평소방서',\n",
              " 'sidoHqOgidNm': '인천소방본부',\n",
              " 'trnfCo': 25,\n",
              " 'trnfPcnt': 25}"
            ]
          },
          "metadata": {},
          "execution_count": 63
        }
      ]
    },
    {
      "cell_type": "code",
      "source": [
        "items =r['body']['items']\n",
        "\n",
        "DispatchNum = [item['gutCo'] for item in items]\n",
        "Date = [item['rcptYm'] for item in items]\n",
        "Patient = [item['rlifAcdAsmCdNm'] for item in items]\n",
        "FireStation = [item['rsacGutFsttOgidNm'] for item in items]\n",
        "CityName = [item['sidoHqOgidNm'] for item in items]\n",
        "\n",
        "\n",
        "DispatchNum = pd.Series(DispatchNum)\n",
        "Date = pd.Series(Date)   \n",
        "Patient = pd.Series(Patient)\n",
        "FireStation = pd.Series(FireStation)\n",
        "CityName = pd.Series(CityName)\n",
        "\n",
        "\n",
        "df = pd.DataFrame({'DispatchNum': DispatchNum, 'Date': Date, 'Patient': Patient, 'FireStation': FireStation, 'CityName': CityName})"
      ],
      "metadata": {
        "id": "W8lA0-IzE55W"
      },
      "execution_count": 71,
      "outputs": []
    },
    {
      "cell_type": "code",
      "source": [
        "def test(sidoName):\n",
        "  URL = ('http://apis.data.go.kr/1661000/EmergencyStatisticsService/'\n",
        "'getTrafficAccidentEmgActStats?'\n",
        "'sidoName='+sidoName+\n",
        "'serviceKey=JA%2F16%2F0d0FKdc%2FKqzD4z6XQYsqG908DxS1HNchB%2BNNp7xkCA9jIn5VQKTjIlMxaGQrVtAOGb9wzdlTMApayG2Q%3D%3D'\n",
        "'&numOfRows=2'\n",
        "'&pageNo=1'\n",
        "'&resultType=json&sidoHqOgidNm=인천소방본부'\n",
        "'&rsacGutFsttOgidNm=부평소방서'\n",
        "'&rcptYm=202101&rlifOccrTyCdNm=기타')\n",
        "  items =r['body']['items']\n",
        "  DispatchNum = [item['gutCo'] for item in items]\n",
        "  Date = [item['rcptYm'] for item in items]\n",
        "  Patient = [item['rlifAcdAsmCdNm'] for item in items]\n",
        "  FireStation = [item['rsacGutFsttOgidNm'] for item in items]\n",
        "  CityName = [item['sidoHqOgidNm'] for item in items]\n",
        "\n",
        "\n",
        "  DispatchNum = pd.Series(DispatchNum)\n",
        "  Date = pd.Series(Date)   \n",
        "  Patient = pd.Series(Patient)\n",
        "  FireStation = pd.Series(FireStation)\n",
        "  CityName = pd.Series(CityName)\n",
        "\n",
        "\n",
        "  df = pd.DataFrame({'DispatchNum': DispatchNum, 'Date': Date, 'Patient': Patient, 'FireStation': FireStation, 'CityName': CityName})\n",
        "  return df"
      ],
      "metadata": {
        "id": "xa2Gb_qsm_G5"
      },
      "execution_count": 75,
      "outputs": []
    },
    {
      "cell_type": "code",
      "source": [
        "iface = gr.Interface(test, gr.inputs.Dropdown(['인천']), outputs=['dataframe'])\n",
        "iface.launch(debug=True)"
      ],
      "metadata": {
        "id": "kxORJVPOnDSP",
        "outputId": "bcbf9048-af30-4f15-9326-c6530f1b4298",
        "colab": {
          "base_uri": "https://localhost:8080/",
          "height": 613
        }
      },
      "execution_count": null,
      "outputs": [
        {
          "output_type": "stream",
          "name": "stdout",
          "text": [
            "Colab notebook detected. This cell will run indefinitely so that you can see errors and logs. To turn off, set debug=False in launch().\n",
            "Running on public URL: https://17661.gradio.app\n",
            "\n",
            "This share link expires in 72 hours. For free permanent hosting, check out Spaces (https://huggingface.co/spaces)\n"
          ]
        },
        {
          "output_type": "display_data",
          "data": {
            "text/plain": [
              "<IPython.lib.display.IFrame at 0x7fc241841a50>"
            ],
            "text/html": [
              "\n",
              "        <iframe\n",
              "            width=\"900\"\n",
              "            height=\"500\"\n",
              "            src=\"https://17661.gradio.app\"\n",
              "            frameborder=\"0\"\n",
              "            allowfullscreen\n",
              "        ></iframe>\n",
              "        "
            ]
          },
          "metadata": {}
        }
      ]
    }
  ]
}