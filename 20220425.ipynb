# auto correlation
Correlation : 두 변수 간의 선형적 관계를 측정하고자 할 때 사용/ autocorrelation : 자기 자신 (auto) 과 correlation 을 알아보고자 할 때 사용
import numpy as np
import pandas as pd
import matplotlib.pyplot as plt

np.random.seed(0)
s = pd.Series(np.sin(range(1,100))) + pd.Series(np.random.randn(99)) # 임의의 time series 생성

plt.figure(facecolor='w',figsize=(20,3),dpi=120)
plt.plot(s)
plt.show()

s.autocorr(lag=1) # lag 1에 해당하는 autocorrelation을 리턴

# root means square
the square root of the mean square, which is the arithmetic mean of the squares of a group of values
